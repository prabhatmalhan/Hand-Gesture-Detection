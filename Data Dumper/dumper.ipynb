{
 "cells": [
  {
   "cell_type": "code",
   "execution_count": 3,
   "source": [
    "from PreProcessor import cleanImg\r\n",
    "import cv2 as cv\r\n",
    "import os\r\n",
    "import pickle as pk\r\n",
    "import random\r\n",
    "from tqdm.notebook import tqdm_notebook\r\n",
    "import numpy as np"
   ],
   "outputs": [],
   "metadata": {}
  },
  {
   "cell_type": "code",
   "execution_count": 4,
   "source": [
    "DIRECTORY = r'Dataset'"
   ],
   "outputs": [],
   "metadata": {}
  },
  {
   "cell_type": "code",
   "execution_count": 11,
   "source": [
    "data = []\r\n",
    "\r\n",
    "for category in tqdm_notebook(range(23), desc = 'Folders Progress'):\r\n",
    "    folder=os.path.join(DIRECTORY,str(category))\r\n",
    "    for img in tqdm_notebook(os.listdir(folder), desc = 'Files Progress'):\r\n",
    "        img_path=os.path.join(folder,img)\r\n",
    "        data.append(cleanImg(cv.imread(img_path),category))\r\n",
    "        "
   ],
   "outputs": [
    {
     "output_type": "display_data",
     "data": {
      "application/vnd.jupyter.widget-view+json": {
       "version_major": 2,
       "version_minor": 0,
       "model_id": "fbde2d67bd324619b4030aeab543dc1c"
      },
      "text/plain": [
       "Folders Progress:   0%|          | 0/23 [00:00<?, ?it/s]"
      ]
     },
     "metadata": {}
    },
    {
     "output_type": "display_data",
     "data": {
      "application/vnd.jupyter.widget-view+json": {
       "version_major": 2,
       "version_minor": 0,
       "model_id": "eaaf723b813e411196e5cb0632d9ed93"
      },
      "text/plain": [
       "Files Progress:   0%|          | 0/4080 [00:00<?, ?it/s]"
      ]
     },
     "metadata": {}
    }
   ],
   "metadata": {}
  },
  {
   "cell_type": "code",
   "execution_count": 12,
   "source": [
    "data"
   ],
   "outputs": [
    {
     "output_type": "execute_result",
     "data": {
      "text/plain": [
       "[[array([[  0,   0,   0, ...,   0,   0,   0],\n",
       "         [  0,   0,   0, ...,   0,   0,   0],\n",
       "         [  0,   0,   0, ...,   0,   0,   0],\n",
       "         ...,\n",
       "         [  0,   0,   0, ..., 255,   0,   0],\n",
       "         [  0,   0,   0, ...,   0,   0,   0],\n",
       "         [  0,   0,   0, ...,   0,   0,   0]], dtype=uint8),\n",
       "  array([1, 0, 0, 0, 0, 0, 0, 0, 0, 0, 0, 0, 0, 0, 0, 0, 0, 0, 0, 0, 0, 0,\n",
       "         0])]]"
      ]
     },
     "metadata": {},
     "execution_count": 12
    }
   ],
   "metadata": {}
  },
  {
   "cell_type": "code",
   "execution_count": 7,
   "source": [
    "len(data)"
   ],
   "outputs": [
    {
     "output_type": "execute_result",
     "data": {
      "text/plain": [
       "1"
      ]
     },
     "metadata": {},
     "execution_count": 7
    }
   ],
   "metadata": {}
  },
  {
   "cell_type": "code",
   "execution_count": 8,
   "source": [
    "random.shuffle(data)"
   ],
   "outputs": [],
   "metadata": {}
  },
  {
   "cell_type": "code",
   "execution_count": 9,
   "source": [
    "X = []\r\n",
    "Y = []\r\n",
    "\r\n",
    "for features,labels in data : \r\n",
    "    X.append(features)\r\n",
    "    Y.append(labels)"
   ],
   "outputs": [],
   "metadata": {}
  },
  {
   "cell_type": "code",
   "execution_count": 10,
   "source": [
    "pk.dump(np.array(X[:-840]),open('X_train.pkl','wb'))\r\n",
    "pk.dump(np.array(X[-840:]),open('X_test.pkl','wb'))\r\n",
    "pk.dump(np.array(Y[:-840]),open('Y_train.pkl','wb'))\r\n",
    "pk.dump(np.array(Y[-840:]),open('Y_test.pkl','wb'))"
   ],
   "outputs": [],
   "metadata": {}
  },
  {
   "cell_type": "code",
   "execution_count": null,
   "source": [],
   "outputs": [],
   "metadata": {}
  }
 ],
 "metadata": {
  "orig_nbformat": 4,
  "language_info": {
   "name": "python",
   "version": "3.6.13",
   "mimetype": "text/x-python",
   "codemirror_mode": {
    "name": "ipython",
    "version": 3
   },
   "pygments_lexer": "ipython3",
   "nbconvert_exporter": "python",
   "file_extension": ".py"
  },
  "kernelspec": {
   "name": "python3",
   "display_name": "Python 3.6.13 64-bit ('project': conda)"
  },
  "interpreter": {
   "hash": "49bb97b874a94301a7130d4b104291d3119e60f21aeb647d9c565445f05d6550"
  }
 },
 "nbformat": 4,
 "nbformat_minor": 2
}