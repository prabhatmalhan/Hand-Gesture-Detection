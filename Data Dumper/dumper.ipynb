{
 "cells": [
  {
   "cell_type": "code",
   "execution_count": null,
   "source": [
    "from PreProcessor import cleanImg\r\n",
    "import cv2 as cv\r\n",
    "import os\r\n",
    "import pickle as pk\r\n",
    "import random"
   ],
   "outputs": [],
   "metadata": {}
  },
  {
   "cell_type": "code",
   "execution_count": null,
   "source": [
    "DIRECTORY = r'Dataset'"
   ],
   "outputs": [],
   "metadata": {}
  },
  {
   "cell_type": "code",
   "execution_count": null,
   "source": [
    "data = []\r\n",
    "\r\n",
    "for category in range(23):\r\n",
    "    folder=os.path.join(DIRECTORY,str(category))\r\n",
    "    for img in os.listdir(folder):\r\n",
    "        img_path=os.path.join(folder,img)\r\n",
    "        data.append(cleanImg(cv.imread(img_path),category))\r\n",
    "        "
   ],
   "outputs": [],
   "metadata": {}
  },
  {
   "cell_type": "code",
   "execution_count": null,
   "source": [
    "data[7]"
   ],
   "outputs": [],
   "metadata": {}
  },
  {
   "cell_type": "code",
   "execution_count": null,
   "source": [
    "len(data)"
   ],
   "outputs": [],
   "metadata": {}
  },
  {
   "cell_type": "code",
   "execution_count": null,
   "source": [
    "random.shuffle(data)"
   ],
   "outputs": [],
   "metadata": {}
  },
  {
   "cell_type": "code",
   "execution_count": null,
   "source": [
    "X = []\r\n",
    "Y = []\r\n",
    "\r\n",
    "for features,labels in data : \r\n",
    "    X.append(features)\r\n",
    "    Y.append(labels)"
   ],
   "outputs": [],
   "metadata": {}
  },
  {
   "cell_type": "code",
   "execution_count": null,
   "source": [
    "pk.dump(X[:-840],open('X_train.pkl','wb'))\r\n",
    "pk.dump(X[-840:],open('X_test.pkl','wb'))\r\n",
    "pk.dump(Y[:-840],open('Y_train.pkl','wb'))\r\n",
    "pk.dump(Y[-840:],open('Y_test.pkl','wb'))"
   ],
   "outputs": [],
   "metadata": {}
  }
 ],
 "metadata": {
  "orig_nbformat": 4,
  "language_info": {
   "name": "python",
   "version": "3.6.13",
   "mimetype": "text/x-python",
   "codemirror_mode": {
    "name": "ipython",
    "version": 3
   },
   "pygments_lexer": "ipython3",
   "nbconvert_exporter": "python",
   "file_extension": ".py"
  },
  "kernelspec": {
   "name": "python3",
   "display_name": "Python 3.6.13 64-bit ('project': conda)"
  },
  "interpreter": {
   "hash": "49bb97b874a94301a7130d4b104291d3119e60f21aeb647d9c565445f05d6550"
  }
 },
 "nbformat": 4,
 "nbformat_minor": 2
}