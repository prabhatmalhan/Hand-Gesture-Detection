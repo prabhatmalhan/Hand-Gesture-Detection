{
 "cells": [
  {
   "cell_type": "code",
   "execution_count": 2,
   "source": [
    "from PreProcessor import cleanImg\r\n",
    "import cv2 as cv\r\n",
    "import os\r\n",
    "import pickle as pk\r\n",
    "import random\r\n",
    "from tqdm.notebook import tqdm_notebook\r\n",
    "import numpy as np"
   ],
   "outputs": [],
   "metadata": {}
  },
  {
   "cell_type": "code",
   "execution_count": 10,
   "source": [
    "DIRECTORY = os.path.join('Resources')\r\n",
    "NEW_DIRECTORY = os.path.join('dataset')"
   ],
   "outputs": [],
   "metadata": {}
  },
  {
   "cell_type": "code",
   "execution_count": 12,
   "source": [
    "\r\n",
    "for category in tqdm_notebook(range(23), desc = 'Folders Progress'):\r\n",
    "    data = []\r\n",
    "    folder=os.path.join(DIRECTORY,str(category))\r\n",
    "    for img in tqdm_notebook(range(1020), desc = 'Files Progress : '+str(category)):\r\n",
    "        img_path=os.path.join(folder,str(img)+'.jpg')\r\n",
    "        data.append(cleanImg(cv.imread(img_path)))    \r\n",
    "    random.shuffle(data)\r\n",
    "    new_folder = os.path.join(NEW_DIRECTORY,'train',str(category))\r\n",
    "    for i in range(816):\r\n",
    "        cv.imwrite(os.path.join(new_folder,str(i)+'.jpg'),data[i])\r\n",
    "    new_folder = os.path.join(NEW_DIRECTORY,'test',str(category))\r\n",
    "    for i in range(816,1020):\r\n",
    "        cv.imwrite(os.path.join(new_folder,str(i-816)+'.jpg'),data[i])\r\n",
    "        \r\n",
    "        "
   ],
   "outputs": [
    {
     "output_type": "display_data",
     "data": {
      "application/vnd.jupyter.widget-view+json": {
       "version_major": 2,
       "version_minor": 0,
       "model_id": "8d99a6aa8faf468a954b4416c80f1bbb"
      },
      "text/plain": [
       "Folders Progress:   0%|          | 0/23 [00:00<?, ?it/s]"
      ]
     },
     "metadata": {}
    },
    {
     "output_type": "display_data",
     "data": {
      "application/vnd.jupyter.widget-view+json": {
       "version_major": 2,
       "version_minor": 0,
       "model_id": "0e11c7ae4e554f359e1ca259bf7ae094"
      },
      "text/plain": [
       "Files Progress : 0:   0%|          | 0/1020 [00:00<?, ?it/s]"
      ]
     },
     "metadata": {}
    },
    {
     "output_type": "display_data",
     "data": {
      "application/vnd.jupyter.widget-view+json": {
       "version_major": 2,
       "version_minor": 0,
       "model_id": "0a409231077d46999364c69b5d3e7a63"
      },
      "text/plain": [
       "Files Progress : 1:   0%|          | 0/1020 [00:00<?, ?it/s]"
      ]
     },
     "metadata": {}
    },
    {
     "output_type": "display_data",
     "data": {
      "application/vnd.jupyter.widget-view+json": {
       "version_major": 2,
       "version_minor": 0,
       "model_id": "76c2673c3d7c42f8b1a4fb48a8c5953d"
      },
      "text/plain": [
       "Files Progress : 2:   0%|          | 0/1020 [00:00<?, ?it/s]"
      ]
     },
     "metadata": {}
    },
    {
     "output_type": "display_data",
     "data": {
      "application/vnd.jupyter.widget-view+json": {
       "version_major": 2,
       "version_minor": 0,
       "model_id": "f3eafc9d4f5d4646aa7b045a45188210"
      },
      "text/plain": [
       "Files Progress : 3:   0%|          | 0/1020 [00:00<?, ?it/s]"
      ]
     },
     "metadata": {}
    },
    {
     "output_type": "display_data",
     "data": {
      "application/vnd.jupyter.widget-view+json": {
       "version_major": 2,
       "version_minor": 0,
       "model_id": "6e9ac5d37e424f4abb8fc709de1001ac"
      },
      "text/plain": [
       "Files Progress : 4:   0%|          | 0/1020 [00:00<?, ?it/s]"
      ]
     },
     "metadata": {}
    },
    {
     "output_type": "display_data",
     "data": {
      "application/vnd.jupyter.widget-view+json": {
       "version_major": 2,
       "version_minor": 0,
       "model_id": "668b4c15180043c9904d8e3702b3af26"
      },
      "text/plain": [
       "Files Progress : 5:   0%|          | 0/1020 [00:00<?, ?it/s]"
      ]
     },
     "metadata": {}
    },
    {
     "output_type": "display_data",
     "data": {
      "application/vnd.jupyter.widget-view+json": {
       "version_major": 2,
       "version_minor": 0,
       "model_id": "f0f285d02b7e45868d25f64166d05a55"
      },
      "text/plain": [
       "Files Progress : 6:   0%|          | 0/1020 [00:00<?, ?it/s]"
      ]
     },
     "metadata": {}
    },
    {
     "output_type": "display_data",
     "data": {
      "application/vnd.jupyter.widget-view+json": {
       "version_major": 2,
       "version_minor": 0,
       "model_id": "ebbb607d759d4ef7a339cc5d6032afbd"
      },
      "text/plain": [
       "Files Progress : 7:   0%|          | 0/1020 [00:00<?, ?it/s]"
      ]
     },
     "metadata": {}
    },
    {
     "output_type": "display_data",
     "data": {
      "application/vnd.jupyter.widget-view+json": {
       "version_major": 2,
       "version_minor": 0,
       "model_id": "be649aac8d264938aa45524d205d1587"
      },
      "text/plain": [
       "Files Progress : 8:   0%|          | 0/1020 [00:00<?, ?it/s]"
      ]
     },
     "metadata": {}
    },
    {
     "output_type": "display_data",
     "data": {
      "application/vnd.jupyter.widget-view+json": {
       "version_major": 2,
       "version_minor": 0,
       "model_id": "6d7a55c19e224bbfa7af7a22fb4c7195"
      },
      "text/plain": [
       "Files Progress : 9:   0%|          | 0/1020 [00:00<?, ?it/s]"
      ]
     },
     "metadata": {}
    },
    {
     "output_type": "display_data",
     "data": {
      "application/vnd.jupyter.widget-view+json": {
       "version_major": 2,
       "version_minor": 0,
       "model_id": "1023fb2d9de541fa9dfd0fc0c467d6fb"
      },
      "text/plain": [
       "Files Progress : 10:   0%|          | 0/1020 [00:00<?, ?it/s]"
      ]
     },
     "metadata": {}
    },
    {
     "output_type": "display_data",
     "data": {
      "application/vnd.jupyter.widget-view+json": {
       "version_major": 2,
       "version_minor": 0,
       "model_id": "6b28f8b56f7e4fc485202cb9211701d5"
      },
      "text/plain": [
       "Files Progress : 11:   0%|          | 0/1020 [00:00<?, ?it/s]"
      ]
     },
     "metadata": {}
    },
    {
     "output_type": "display_data",
     "data": {
      "application/vnd.jupyter.widget-view+json": {
       "version_major": 2,
       "version_minor": 0,
       "model_id": "91b5d48cdd074e9d89f430542da9cb9b"
      },
      "text/plain": [
       "Files Progress : 12:   0%|          | 0/1020 [00:00<?, ?it/s]"
      ]
     },
     "metadata": {}
    },
    {
     "output_type": "display_data",
     "data": {
      "application/vnd.jupyter.widget-view+json": {
       "version_major": 2,
       "version_minor": 0,
       "model_id": "4c57a20df51e47c09df3a5c2ca11c00b"
      },
      "text/plain": [
       "Files Progress : 13:   0%|          | 0/1020 [00:00<?, ?it/s]"
      ]
     },
     "metadata": {}
    },
    {
     "output_type": "display_data",
     "data": {
      "application/vnd.jupyter.widget-view+json": {
       "version_major": 2,
       "version_minor": 0,
       "model_id": "56d5078714854b5295f986fe015a0831"
      },
      "text/plain": [
       "Files Progress : 14:   0%|          | 0/1020 [00:00<?, ?it/s]"
      ]
     },
     "metadata": {}
    },
    {
     "output_type": "display_data",
     "data": {
      "application/vnd.jupyter.widget-view+json": {
       "version_major": 2,
       "version_minor": 0,
       "model_id": "e733e8a3596b4e1185fc0ef8050c6803"
      },
      "text/plain": [
       "Files Progress : 15:   0%|          | 0/1020 [00:00<?, ?it/s]"
      ]
     },
     "metadata": {}
    },
    {
     "output_type": "display_data",
     "data": {
      "application/vnd.jupyter.widget-view+json": {
       "version_major": 2,
       "version_minor": 0,
       "model_id": "59c0a87d0b24466baf92b3ff646d6b91"
      },
      "text/plain": [
       "Files Progress : 16:   0%|          | 0/1020 [00:00<?, ?it/s]"
      ]
     },
     "metadata": {}
    },
    {
     "output_type": "display_data",
     "data": {
      "application/vnd.jupyter.widget-view+json": {
       "version_major": 2,
       "version_minor": 0,
       "model_id": "e4fcf253ce214f73bdfa8c7e75b78225"
      },
      "text/plain": [
       "Files Progress : 17:   0%|          | 0/1020 [00:00<?, ?it/s]"
      ]
     },
     "metadata": {}
    },
    {
     "output_type": "display_data",
     "data": {
      "application/vnd.jupyter.widget-view+json": {
       "version_major": 2,
       "version_minor": 0,
       "model_id": "9a88aeff8dfc4496852c2a5f05ec7ab3"
      },
      "text/plain": [
       "Files Progress : 18:   0%|          | 0/1020 [00:00<?, ?it/s]"
      ]
     },
     "metadata": {}
    },
    {
     "output_type": "display_data",
     "data": {
      "application/vnd.jupyter.widget-view+json": {
       "version_major": 2,
       "version_minor": 0,
       "model_id": "b3cbbba9c5d8497f8ab5b9b2fdca3f96"
      },
      "text/plain": [
       "Files Progress : 19:   0%|          | 0/1020 [00:00<?, ?it/s]"
      ]
     },
     "metadata": {}
    },
    {
     "output_type": "display_data",
     "data": {
      "application/vnd.jupyter.widget-view+json": {
       "version_major": 2,
       "version_minor": 0,
       "model_id": "e24af387dde14443832f43e08db317c1"
      },
      "text/plain": [
       "Files Progress : 20:   0%|          | 0/1020 [00:00<?, ?it/s]"
      ]
     },
     "metadata": {}
    },
    {
     "output_type": "display_data",
     "data": {
      "application/vnd.jupyter.widget-view+json": {
       "version_major": 2,
       "version_minor": 0,
       "model_id": "d9c3165a03514f609ed01edf9b308e62"
      },
      "text/plain": [
       "Files Progress : 21:   0%|          | 0/1020 [00:00<?, ?it/s]"
      ]
     },
     "metadata": {}
    },
    {
     "output_type": "display_data",
     "data": {
      "application/vnd.jupyter.widget-view+json": {
       "version_major": 2,
       "version_minor": 0,
       "model_id": "ced1cdac758d432bbe966d6db2fe36a3"
      },
      "text/plain": [
       "Files Progress : 22:   0%|          | 0/1020 [00:00<?, ?it/s]"
      ]
     },
     "metadata": {}
    }
   ],
   "metadata": {}
  },
  {
   "cell_type": "code",
   "execution_count": null,
   "source": [],
   "outputs": [],
   "metadata": {}
  }
 ],
 "metadata": {
  "orig_nbformat": 4,
  "language_info": {
   "name": "python",
   "version": "3.6.13",
   "mimetype": "text/x-python",
   "codemirror_mode": {
    "name": "ipython",
    "version": 3
   },
   "pygments_lexer": "ipython3",
   "nbconvert_exporter": "python",
   "file_extension": ".py"
  },
  "kernelspec": {
   "name": "python3",
   "display_name": "Python 3.6.13 64-bit ('project': conda)"
  },
  "interpreter": {
   "hash": "49bb97b874a94301a7130d4b104291d3119e60f21aeb647d9c565445f05d6550"
  }
 },
 "nbformat": 4,
 "nbformat_minor": 2
}