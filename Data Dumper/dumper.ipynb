{
 "cells": [
  {
   "cell_type": "code",
   "execution_count": 1,
   "source": [
    "from PreProcessor import cleanImg\r\n",
    "import cv2 as cv\r\n",
    "import os\r\n",
    "import pickle as pk\r\n",
    "import random\r\n",
    "from tqdm import tqdm\r\n",
    "import numpy as np"
   ],
   "outputs": [],
   "metadata": {}
  },
  {
   "cell_type": "code",
   "execution_count": 2,
   "source": [
    "DIRECTORY = os.path.join('..\\\\Resources')\r\n",
    "NEW_DIRECTORY = os.path.join('..\\\\dataset')"
   ],
   "outputs": [],
   "metadata": {}
  },
  {
   "cell_type": "code",
   "execution_count": 3,
   "source": [
    "\r\n",
    "for category in tqdm(range(23), desc = 'Folders Progress'):\r\n",
    "    data = []\r\n",
    "    folder=os.path.join(DIRECTORY,str(category))\r\n",
    "    for img in tqdm(range(1020), desc = 'Files Progress : '+str(category)):\r\n",
    "        img_path=os.path.join(folder,str(img)+'.jpg')\r\n",
    "        data.append(cleanImg(cv.imread(img_path)))    \r\n",
    "    random.shuffle(data)\r\n",
    "    new_folder = os.path.join(NEW_DIRECTORY,'train',str(category))\r\n",
    "    for i in range(816):\r\n",
    "        cv.imwrite(os.path.join(new_folder,str(i)+'.jpg'),data[i])\r\n",
    "    new_folder = os.path.join(NEW_DIRECTORY,'test',str(category))\r\n",
    "    for i in range(816,1020):\r\n",
    "        cv.imwrite(os.path.join(new_folder,str(i-816)+'.jpg'),data[i])\r\n",
    "        \r\n",
    "        "
   ],
   "outputs": [
    {
     "output_type": "stream",
     "name": "stderr",
     "text": [
      "Files Progress : 0: 100%|██████████| 1020/1020 [00:01<00:00, 639.76it/s]\n",
      "Files Progress : 1: 100%|██████████| 1020/1020 [00:01<00:00, 646.89it/s]\n",
      "Files Progress : 2: 100%|██████████| 1020/1020 [00:01<00:00, 653.92it/s]\n",
      "Files Progress : 3: 100%|██████████| 1020/1020 [00:01<00:00, 643.63it/s]\n",
      "Files Progress : 4: 100%|██████████| 1020/1020 [00:01<00:00, 638.79it/s]\n",
      "Files Progress : 5: 100%|██████████| 1020/1020 [00:01<00:00, 673.91it/s]\n",
      "Files Progress : 6: 100%|██████████| 1020/1020 [00:01<00:00, 672.85it/s]\n",
      "Files Progress : 7: 100%|██████████| 1020/1020 [00:01<00:00, 671.07it/s]\n",
      "Files Progress : 8: 100%|██████████| 1020/1020 [00:01<00:00, 666.71it/s]\n",
      "Files Progress : 9: 100%|██████████| 1020/1020 [00:01<00:00, 672.41it/s]\n",
      "Files Progress : 10: 100%|██████████| 1020/1020 [00:01<00:00, 681.35it/s]\n",
      "Files Progress : 11: 100%|██████████| 1020/1020 [00:01<00:00, 674.17it/s]\n",
      "Files Progress : 12: 100%|██████████| 1020/1020 [00:01<00:00, 674.66it/s]\n",
      "Files Progress : 13: 100%|██████████| 1020/1020 [00:01<00:00, 671.79it/s]\n",
      "Files Progress : 14: 100%|██████████| 1020/1020 [00:01<00:00, 672.53it/s]\n",
      "Files Progress : 15: 100%|██████████| 1020/1020 [00:01<00:00, 669.19it/s]\n",
      "Files Progress : 16: 100%|██████████| 1020/1020 [00:01<00:00, 636.63it/s]\n",
      "Files Progress : 17: 100%|██████████| 1020/1020 [00:01<00:00, 599.84it/s]\n",
      "Files Progress : 18: 100%|██████████| 1020/1020 [00:01<00:00, 609.49it/s]\n",
      "Files Progress : 19: 100%|██████████| 1020/1020 [00:01<00:00, 599.14it/s]\n",
      "Files Progress : 20: 100%|██████████| 1020/1020 [00:01<00:00, 606.96it/s]\n",
      "Files Progress : 21: 100%|██████████| 1020/1020 [00:01<00:00, 671.20it/s]\n",
      "Files Progress : 22: 100%|██████████| 1020/1020 [00:01<00:00, 703.52it/s]\n",
      "Folders Progress: 100%|██████████| 23/23 [00:46<00:00,  2.02s/it]\n"
     ]
    }
   ],
   "metadata": {}
  },
  {
   "cell_type": "code",
   "execution_count": null,
   "source": [],
   "outputs": [],
   "metadata": {}
  }
 ],
 "metadata": {
  "orig_nbformat": 4,
  "language_info": {
   "name": "python",
   "version": "3.6.13",
   "mimetype": "text/x-python",
   "codemirror_mode": {
    "name": "ipython",
    "version": 3
   },
   "pygments_lexer": "ipython3",
   "nbconvert_exporter": "python",
   "file_extension": ".py"
  },
  "kernelspec": {
   "name": "python3",
   "display_name": "Python 3.6.13 64-bit ('project': conda)"
  },
  "interpreter": {
   "hash": "49bb97b874a94301a7130d4b104291d3119e60f21aeb647d9c565445f05d6550"
  }
 },
 "nbformat": 4,
 "nbformat_minor": 2
}